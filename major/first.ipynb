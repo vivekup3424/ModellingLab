{
 "cells": [
  {
   "cell_type": "code",
   "execution_count": null,
   "id": "7595f44b-07b3-4470-92e6-83d13d88c347",
   "metadata": {},
   "outputs": [],
   "source": [
    "# Logistic growth model"
   ]
  },
  {
   "cell_type": "code",
   "execution_count": null,
   "id": "84c08d19-ad64-48e4-a999-a936f4a0336e",
   "metadata": {},
   "outputs": [],
   "source": [
    "\"\"\"\n",
    "write the code for a logistic growth model with\n",
    "r = 0.5\n",
    "K = 1000 (carrying capacity)\n",
    "P0 = 50 (initial population)\n",
    "time_span = (0,50)\n",
    "solve the program and then generate the curve of P wrt time (t)\n",
    "using matplotlib\n",
    "\"\"\""
   ]
  },
  {
   "cell_type": "code",
   "execution_count": 6,
   "id": "6f0044d9-9539-49a7-93d9-29b4aa9e160f",
   "metadata": {},
   "outputs": [
    {
     "ename": "UnboundLocalError",
     "evalue": "cannot access local variable 'fun' where it is not associated with a value",
     "output_type": "error",
     "traceback": [
      "\u001b[0;31m---------------------------------------------------------------------------\u001b[0m",
      "\u001b[0;31mUnboundLocalError\u001b[0m                         Traceback (most recent call last)",
      "Cell \u001b[0;32mIn[6], line 20\u001b[0m\n\u001b[1;32m     17\u001b[0m     \u001b[38;5;28;01mreturn\u001b[39;00m model(t, P, r, k)\n\u001b[1;32m     19\u001b[0m \u001b[38;5;66;03m# Solve the differential equation\u001b[39;00m\n\u001b[0;32m---> 20\u001b[0m sol \u001b[38;5;241m=\u001b[39m \u001b[43msolve_ivp\u001b[49m\u001b[43m(\u001b[49m\u001b[43mfun\u001b[49m\u001b[43m,\u001b[49m\u001b[43m \u001b[49m\u001b[43mt_span\u001b[49m\u001b[43m,\u001b[49m\u001b[43m \u001b[49m\u001b[43m[\u001b[49m\u001b[43mP0\u001b[49m\u001b[43m]\u001b[49m\u001b[43m,\u001b[49m\u001b[43m \u001b[49m\u001b[43mt_eval\u001b[49m\u001b[38;5;241;43m=\u001b[39;49m\u001b[43mnp\u001b[49m\u001b[38;5;241;43m.\u001b[39;49m\u001b[43mlinspace\u001b[49m\u001b[43m(\u001b[49m\u001b[38;5;241;43m0\u001b[39;49m\u001b[43m,\u001b[49m\u001b[43m \u001b[49m\u001b[38;5;241;43m50\u001b[39;49m\u001b[43m,\u001b[49m\u001b[43m \u001b[49m\u001b[38;5;241;43m51\u001b[39;49m\u001b[43m)\u001b[49m\u001b[43m)\u001b[49m\n\u001b[1;32m     22\u001b[0m \u001b[38;5;66;03m# Extract solution\u001b[39;00m\n\u001b[1;32m     23\u001b[0m t \u001b[38;5;241m=\u001b[39m sol\u001b[38;5;241m.\u001b[39mt\n",
      "File \u001b[0;32m~/Documents/Projects/modellingLab/myenv/lib/python3.12/site-packages/scipy/integrate/_ivp/ivp.py:621\u001b[0m, in \u001b[0;36msolve_ivp\u001b[0;34m(fus, t_span, y0, method, t_eval, dense_output, events, vectorized, args, **options)\u001b[0m\n\u001b[1;32m    618\u001b[0m \u001b[38;5;28;01mif\u001b[39;00m method \u001b[38;5;129;01min\u001b[39;00m METHODS:\n\u001b[1;32m    619\u001b[0m     method \u001b[38;5;241m=\u001b[39m METHODS[method]\n\u001b[0;32m--> 621\u001b[0m solver \u001b[38;5;241m=\u001b[39m method(\u001b[43mfun\u001b[49m, t0, y0, tf, vectorized\u001b[38;5;241m=\u001b[39mvectorized, \u001b[38;5;241m*\u001b[39m\u001b[38;5;241m*\u001b[39moptions)\n\u001b[1;32m    623\u001b[0m \u001b[38;5;28;01mif\u001b[39;00m t_eval \u001b[38;5;129;01mis\u001b[39;00m \u001b[38;5;28;01mNone\u001b[39;00m:\n\u001b[1;32m    624\u001b[0m     ts \u001b[38;5;241m=\u001b[39m [t0]\n",
      "\u001b[0;31mUnboundLocalError\u001b[0m: cannot access local variable 'fun' where it is not associated with a value"
     ]
    }
   ],
   "source": [
    "import numpy as np\n",
    "import matplotlib.pyplot as plt\n",
    "from scipy.integrate import solve_ivp\n",
    "\n",
    "def model(t, P, r, k):\n",
    "    dPdt = r * P * (1 - P / k)\n",
    "    return [dPdt]\n",
    "\n",
    "# Define parameters\n",
    "P0 = 50  # Initial population\n",
    "r = 0.5  # Growth rate\n",
    "k = 1000  # Carrying capacity\n",
    "t_span = (0, 50)  # Time span\n",
    "\n",
    "# Create a wrapper function that only takes t and P\n",
    "def fun(t, P):\n",
    "    return model(t, P, r, k)\n",
    "\n",
    "# Solve the differential equation\n",
    "sol = solve_ivp(fun, t_span, [P0], t_eval=np.linspace(0, 50, 51))\n",
    "\n",
    "# Extract solution\n",
    "t = sol.t\n",
    "P = sol.y[0]\n",
    "\n",
    "# Plot the results\n",
    "plt.figure(figsize=(8, 6))\n",
    "plt.plot(t, P)\n",
    "plt.xlabel('Time (years)')\n",
    "plt.ylabel('Population')\n",
    "plt.title('Population Growth Simulation')\n",
    "plt.grid()\n",
    "plt.show()"
   ]
  },
  {
   "cell_type": "code",
   "execution_count": null,
   "id": "85eaaba1-7284-4b5c-9165-06c43ce633c7",
   "metadata": {},
   "outputs": [],
   "source": []
  }
 ],
 "metadata": {
  "kernelspec": {
   "display_name": "Python 3 (ipykernel)",
   "language": "python",
   "name": "python3"
  },
  "language_info": {
   "codemirror_mode": {
    "name": "ipython",
    "version": 3
   },
   "file_extension": ".py",
   "mimetype": "text/x-python",
   "name": "python",
   "nbconvert_exporter": "python",
   "pygments_lexer": "ipython3",
   "version": "3.12.3"
  }
 },
 "nbformat": 4,
 "nbformat_minor": 5
}
